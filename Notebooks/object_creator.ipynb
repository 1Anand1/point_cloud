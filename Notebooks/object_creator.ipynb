{
 "cells": [
  {
   "cell_type": "code",
   "execution_count": 1,
   "metadata": {},
   "outputs": [],
   "source": [
    "# Importing the required libraries\n",
    "import numpy as np\n"
   ]
  },
  {
   "cell_type": "code",
   "execution_count": 2,
   "metadata": {},
   "outputs": [],
   "source": [
    "# Defining a function to create a 2D or 3D numpy array of X,Y,Z Coordinates\n",
    "def func_to_create_object(n:int,low_range:int,high_range:int,z=True)->np.array:\n",
    "  \"\"\"\n",
    "  This is the function that creates a numpy array of shape (n,2) or (n,3)\n",
    "\n",
    "  args :\n",
    "    n parameter --> Number of data points\n",
    "    low_range parameter --> Tells about the lower range in which the numbers will be distributed\n",
    "    high_range parameter --> Tells about the higher range in which the numbers will be distributed\n",
    "    z parameter --> If this parameter is True then a 3D array will be created, if False then it will create a 2D array\n",
    "\n",
    "  returns :\n",
    "    It returns a 2D or 3D array \n",
    "  \n",
    "  \"\"\"\n",
    "\n",
    "  # Making a sorted numpy array of x & y\n",
    "  x_range=np.sort(np.random.uniform(low_range,high_range,n))\n",
    "  y_range=np.sort(np.random.uniform(low_range,high_range,n))\n",
    "\n",
    "  # If z is set True then z array will be created\n",
    "  if z==True:\n",
    "    z_range=np.sort(np.random.uniform(low_range,high_range,n))\n",
    "    rqd_array=np.stack((x_range,y_range,z_range),axis=1) # Stacking the x , y & z arrays\n",
    "  else:\n",
    "    rqd_array=np.stack((x_range,y_range),axis=1) # Stacking the x & y arrays only\n",
    "\n",
    "  return rqd_array"
   ]
  }
 ],
 "metadata": {
  "kernelspec": {
   "display_name": "Python 3",
   "language": "python",
   "name": "python3"
  },
  "language_info": {
   "codemirror_mode": {
    "name": "ipython",
    "version": 3
   },
   "file_extension": ".py",
   "mimetype": "text/x-python",
   "name": "python",
   "nbconvert_exporter": "python",
   "pygments_lexer": "ipython3",
   "version": "3.12.0"
  }
 },
 "nbformat": 4,
 "nbformat_minor": 2
}
